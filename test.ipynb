{
 "cells": [
  {
   "cell_type": "markdown",
   "metadata": {},
   "source": [
    "# Testing"
   ]
  },
  {
   "cell_type": "code",
   "execution_count": 1,
   "metadata": {},
   "outputs": [
    {
     "name": "stdout",
     "output_type": "stream",
     "text": [
      "enter vehicle numbeDL7SBQ8935\n"
     ]
    }
   ],
   "source": [
    "vehicle_num = input(\"enter vehicle numbe\")"
   ]
  },
  {
   "cell_type": "code",
   "execution_count": 24,
   "metadata": {},
   "outputs": [],
   "source": [
    "import requests\n",
    "\n",
    "url = \"https://rto-vehicle-information-verification-india.p.rapidapi.com/api/v1/rc/vehicleinfo\"\n",
    "\n",
    "payload = {\n",
    "\t\"reg_no\": vehicle_num,\n",
    "\t\"consent\": \"Y\",\n",
    "\t\"consent_text\": \"I hear by declare my consent agreement for fetching my information via AITAN Labs API\"\n",
    "}\n",
    "headers = {\n",
    "\t\"content-type\": \"application/json\",\n",
    "\t\"X-RapidAPI-Key\": \"47172243a3msh325526ec30dfe89p1c0c49jsn394afd34565a\",\n",
    "\t\"X-RapidAPI-Host\": \"rto-vehicle-information-verification-india.p.rapidapi.com\"\n",
    "}\n",
    "\n",
    "response = requests.post(url, json=payload, headers=headers)"
   ]
  },
  {
   "cell_type": "code",
   "execution_count": 25,
   "metadata": {},
   "outputs": [],
   "source": [
    "response1 = response.json()"
   ]
  },
  {
   "cell_type": "code",
   "execution_count": 26,
   "metadata": {},
   "outputs": [],
   "source": [
    "response1 = response1.get(\"result\")"
   ]
  },
  {
   "cell_type": "code",
   "execution_count": 28,
   "metadata": {},
   "outputs": [
    {
     "data": {
      "text/plain": [
       "dict_keys(['state_code', 'state', 'office_code', 'office_name', 'reg_no', 'reg_date', 'purchase_date', 'owner_count', 'owner_name', 'owner_father_name', 'current_address_line1', 'current_address_line2', 'current_address_line3', 'current_district_name', 'current_state', 'current_state_name', 'current_pincode', 'permanent_address_line1', 'permanent_address_line2', 'permanent_address_line3', 'permanent_district_name', 'permanent_state', 'permanent_state_name', 'permanent_pincode', 'owner_code_descr', 'reg_type_descr', 'vehicle_class_desc', 'chassis_no', 'engine_no', 'vehicle_manufacturer_name', 'model_code', 'model', 'body_type', 'cylinders_no', 'vehicle_hp', 'vehicle_seat_capacity', 'vehicle_standing_capacity', 'vehicle_sleeper_capacity', 'unladen_weight', 'vehicle_gross_weight', 'vehicle_gross_comb_weight', 'fuel_descr', 'color', 'manufacturing_mon', 'manufacturing_yr', 'norms_descr', 'wheelbase', 'cubic_cap', 'floor_area', 'ac_fitted', 'audio_fitted', 'video_fitted', 'vehicle_purchase_as', 'vehicle_catg', 'dealer_code', 'dealer_name', 'dealer_address_line1', 'dealer_address_line2', 'dealer_address_line3', 'dealer_district', 'dealer_pincode', 'sale_amount', 'laser_code', 'garage_add', 'length', 'width', 'height', 'reg_upto', 'fit_upto', 'annual_income', 'op_dt', 'imported_vehicle', 'other_criteria', 'status', 'vehicle_type', 'tax_mode', 'mobile_no', 'email_id', 'pan_no', 'aadhar_no', 'passport_no', 'ration_card_no', 'voter_id', 'dl_no', 'verified_on', 'dl_validation_required', 'condition_status', 'vehicle_insurance_details', 'vehicle_pucc_details', 'permit_details', 'latest_tax_details', 'financer_details'])"
      ]
     },
     "execution_count": 28,
     "metadata": {},
     "output_type": "execute_result"
    }
   ],
   "source": [
    "response1.keys()"
   ]
  },
  {
   "cell_type": "code",
   "execution_count": 33,
   "metadata": {},
   "outputs": [
    {
     "name": "stdout",
     "output_type": "stream",
     "text": [
      "STATE_CODE -- DL\n",
      "STATE -- Delhi\n",
      "OFFICE_CODE -- 7\n",
      "OFFICE_NAME -- MAYUR VIHAR \n",
      "REG_NO -- DL7SBQ8935\n",
      "REG_DATE -- 2013-08-14\n",
      "PURCHASE_DATE -- 2013-08-14\n",
      "OWNER_COUNT -- 2\n",
      "OWNER_NAME -- SHIVAM UPPAL\n",
      "OWNER_FATHER_NAME -- DEEPAK UPPAL\n",
      "CURRENT_ADDRESS_LINE1 -- H.NO-142 F F, E BLOCK,\n",
      "CURRENT_ADDRESS_LINE2 -- JHILMIL  COLONY\n",
      "CURRENT_ADDRESS_LINE3 -- SHAHDARA\n",
      "CURRENT_DISTRICT_NAME -- East\n",
      "CURRENT_STATE -- DL\n",
      "CURRENT_STATE_NAME -- Delhi\n",
      "CURRENT_PINCODE -- 110095\n",
      "PERMANENT_ADDRESS_LINE1 -- H.NO-142 F F, E BLOCK,\n",
      "PERMANENT_ADDRESS_LINE2 -- JHILMIL  COLONY\n",
      "PERMANENT_ADDRESS_LINE3 -- SHAHDARA\n",
      "PERMANENT_DISTRICT_NAME -- East\n",
      "PERMANENT_STATE -- DL\n",
      "PERMANENT_STATE_NAME -- Delhi\n",
      "PERMANENT_PINCODE -- 110095\n",
      "OWNER_CODE_DESCR -- INDIVIDUAL\n",
      "REG_TYPE_DESCR -- NEW\n",
      "VEHICLE_CLASS_DESC -- M-Cycle/Scooter\n",
      "CHASSIS_NO -- MBLJF32ABDGG26639\n",
      "ENGINE_NO -- JF32AADGG26587\n",
      "VEHICLE_MANUFACTURER_NAME -- HERO HONDA MOTORS  LTD\n",
      "MODEL_CODE -- MAESTRO\n",
      "MODEL -- MAESTRO\n",
      "BODY_TYPE -- SOLO\n",
      "CYLINDERS_NO -- 1\n",
      "VEHICLE_HP -- 0\n",
      "VEHICLE_SEAT_CAPACITY -- 2\n",
      "VEHICLE_STANDING_CAPACITY -- None\n",
      "VEHICLE_SLEEPER_CAPACITY -- None\n",
      "UNLADEN_WEIGHT -- 140\n",
      "VEHICLE_GROSS_WEIGHT -- 240\n",
      "VEHICLE_GROSS_COMB_WEIGHT -- 0\n",
      "FUEL_DESCR -- PETROL\n",
      "COLOR -- RED\n",
      "MANUFACTURING_MON -- 7\n",
      "MANUFACTURING_YR -- 2013\n",
      "NORMS_DESCR -- BHARAT STAGE III\n",
      "WHEELBASE -- 0\n",
      "CUBIC_CAP -- 110\n",
      "FLOOR_AREA -- None\n",
      "AC_FITTED -- N\n",
      "AUDIO_FITTED -- N\n",
      "VIDEO_FITTED -- N\n",
      "VEHICLE_PURCHASE_AS -- None\n",
      "VEHICLE_CATG -- 2WN\n",
      "DEALER_CODE -- DL00700869\n",
      "DEALER_NAME -- AUTO NEEDS\n",
      "DEALER_ADDRESS_LINE1 -- E-1/4 PANDAV NAGAR PATPARGANJ\n",
      "DEALER_ADDRESS_LINE2 -- OPP MOTHER DAIRY\n",
      "DEALER_ADDRESS_LINE3 -- \n",
      "DEALER_DISTRICT -- 93\n",
      "DEALER_PINCODE -- 110092\n",
      "SALE_AMOUNT -- 46900\n",
      "LASER_CODE -- None\n",
      "GARAGE_ADD -- \n",
      "LENGTH -- None\n",
      "WIDTH -- None\n",
      "HEIGHT -- None\n",
      "REG_UPTO -- 2028-08-13\n",
      "FIT_UPTO -- 2028-08-13\n",
      "ANNUAL_INCOME -- None\n",
      "OP_DT -- 2016-04-27 15:25:17.013859\n",
      "IMPORTED_VEHICLE -- N\n",
      "OTHER_CRITERIA -- None\n",
      "STATUS -- A\n",
      "VEHICLE_TYPE -- Non-Transport\n",
      "TAX_MODE -- None\n",
      "MOBILE_NO -- 7042283621\n",
      "EMAIL_ID -- \n",
      "PAN_NO -- \n",
      "AADHAR_NO -- \n",
      "PASSPORT_NO -- \n",
      "RATION_CARD_NO -- \n",
      "VOTER_ID -- \n",
      "DL_NO -- \n",
      "VERIFIED_ON -- 2016-04-27\n",
      "DL_VALIDATION_REQUIRED -- False\n",
      "CONDITION_STATUS -- False\n",
      "VEHICLE_INSURANCE_DETAILS -- {'insurance_from': '2022-02-02', 'insurance_upto': '2023-02-01', 'insurance_company_code': 1027, 'insurance_company_name': 'Bajaj Allianz General Insurance Co. Ltd.', 'opdt': '2022-01-31 07:10:32.33425', 'policy_no': 'OG-22-9906-1802-00403956', 'vahan_verify': 'true', 'reg_no': 'DL7SBQ8935'}\n",
      "VEHICLE_PUCC_DETAILS -- {'pucc_from': '22-01-2023', 'pucc_upto': '21-04-2023', 'pucc_centreno': 'DL0130005', 'pucc_no': 'DL01300050020636', 'op_dt': '22-01-2023'}\n",
      "PERMIT_DETAILS -- None\n",
      "LATEST_TAX_DETAILS -- None\n",
      "FINANCER_DETAILS -- None\n"
     ]
    }
   ],
   "source": [
    "for key in response1.keys():\n",
    "    print(f\"{key.upper()} -- {response1.get(key)}\")"
   ]
  },
  {
   "cell_type": "code",
   "execution_count": 54,
   "metadata": {},
   "outputs": [
    {
     "name": "stdout",
     "output_type": "stream",
     "text": [
      "STATE_CODE --  DL\n",
      "STATE --  Delhi\n",
      "OFFICE_CODE --  7\n",
      "OFFICE_NAME --  MAYUR VIHAR \n",
      "REG_NO --  DL7SBQ8935\n",
      "REG_DATE --  2013-08-14\n",
      "PURCHASE_DATE --  2013-08-14\n",
      "OWNER_COUNT --  2\n",
      "OWNER_NAME --  SHIVAM UPPAL\n",
      "OWNER_FATHER_NAME --  DEEPAK UPPAL\n",
      "CURRENT_ADDRESS_LINE1 --  H.NO-142 F F, E BLOCK,\n",
      "CURRENT_ADDRESS_LINE2 --  JHILMIL  COLONY\n",
      "CURRENT_ADDRESS_LINE3 --  SHAHDARA\n",
      "CURRENT_DISTRICT_NAME --  East\n",
      "CURRENT_STATE --  DL\n",
      "CURRENT_STATE_NAME --  Delhi\n",
      "CURRENT_PINCODE --  110095\n",
      "PERMANENT_ADDRESS_LINE1 --  H.NO-142 F F, E BLOCK,\n",
      "PERMANENT_ADDRESS_LINE2 --  JHILMIL  COLONY\n",
      "PERMANENT_ADDRESS_LINE3 --  SHAHDARA\n",
      "PERMANENT_DISTRICT_NAME --  East\n",
      "PERMANENT_STATE --  DL\n",
      "PERMANENT_STATE_NAME --  Delhi\n",
      "PERMANENT_PINCODE --  110095\n",
      "OWNER_CODE_DESCR --  INDIVIDUAL\n",
      "REG_TYPE_DESCR --  NEW\n",
      "VEHICLE_CLASS_DESC --  M-Cycle/Scooter\n",
      "CHASSIS_NO --  MBLJF32ABDGG26639\n",
      "ENGINE_NO --  JF32AADGG26587\n",
      "VEHICLE_MANUFACTURER_NAME --  HERO HONDA MOTORS  LTD\n",
      "MODEL_CODE --  MAESTRO\n",
      "MODEL --  MAESTRO\n",
      "BODY_TYPE --  SOLO\n",
      "CYLINDERS_NO --  1\n",
      "VEHICLE_HP --  0\n",
      "VEHICLE_SEAT_CAPACITY --  2\n",
      "VEHICLE_STANDING_CAPACITY --  None\n",
      "VEHICLE_SLEEPER_CAPACITY --  None\n",
      "UNLADEN_WEIGHT --  140\n",
      "VEHICLE_GROSS_WEIGHT --  240\n",
      "VEHICLE_GROSS_COMB_WEIGHT --  0\n",
      "FUEL_DESCR --  PETROL\n",
      "COLOR --  RED\n",
      "MANUFACTURING_MON --  7\n",
      "MANUFACTURING_YR --  2013\n",
      "NORMS_DESCR --  BHARAT STAGE III\n",
      "WHEELBASE --  0\n",
      "CUBIC_CAP --  110\n",
      "FLOOR_AREA --  None\n",
      "AC_FITTED --  N\n",
      "AUDIO_FITTED --  N\n",
      "VIDEO_FITTED --  N\n",
      "VEHICLE_PURCHASE_AS --  None\n",
      "VEHICLE_CATG --  2WN\n",
      "DEALER_CODE --  DL00700869\n",
      "DEALER_NAME --  AUTO NEEDS\n",
      "DEALER_ADDRESS_LINE1 --  E-1/4 PANDAV NAGAR PATPARGANJ\n",
      "DEALER_ADDRESS_LINE2 --  OPP MOTHER DAIRY\n",
      "DEALER_ADDRESS_LINE3 --  \n",
      "DEALER_DISTRICT --  93\n",
      "DEALER_PINCODE --  110092\n",
      "SALE_AMOUNT --  46900\n",
      "LASER_CODE --  None\n",
      "GARAGE_ADD --  \n",
      "LENGTH --  None\n",
      "WIDTH --  None\n",
      "HEIGHT --  None\n",
      "REG_UPTO --  2028-08-13\n",
      "FIT_UPTO --  2028-08-13\n",
      "ANNUAL_INCOME --  None\n",
      "OP_DT --  2016-04-27 15:25:17.013859\n",
      "IMPORTED_VEHICLE --  N\n",
      "OTHER_CRITERIA --  None\n",
      "STATUS --  A\n",
      "VEHICLE_TYPE --  Non-Transport\n",
      "TAX_MODE --  None\n",
      "MOBILE_NO --  7042283621\n",
      "EMAIL_ID --  \n",
      "PAN_NO --  \n",
      "AADHAR_NO --  \n",
      "PASSPORT_NO --  \n",
      "RATION_CARD_NO --  \n",
      "VOTER_ID --  \n",
      "DL_NO --  \n",
      "VERIFIED_ON --  2016-04-27\n",
      "DL_VALIDATION_REQUIRED --  False\n",
      "CONDITION_STATUS --  False\n",
      "INSURANCE_FROM --  None\n",
      "INSURANCE_UPTO --  None\n",
      "INSURANCE_COMPANY_CODE --  None\n",
      "INSURANCE_COMPANY_NAME --  None\n",
      "OPDT --  None\n",
      "POLICY_NO --  None\n",
      "VAHAN_VERIFY --  None\n",
      "REG_NO --  DL7SBQ8935\n",
      "VEHICLE_PUCC_DETAILS --  {'pucc_from': '22-01-2023', 'pucc_upto': '21-04-2023', 'pucc_centreno': 'DL0130005', 'pucc_no': 'DL01300050020636', 'op_dt': '22-01-2023'}\n",
      "PERMIT_DETAILS --  None\n",
      "LATEST_TAX_DETAILS --  None\n",
      "FINANCER_DETAILS --  None\n"
     ]
    }
   ],
   "source": [
    "for key in response1.keys():\n",
    "    if key == \"vehicle_insurance_details\":\n",
    "        vehicle_insurance(key)\n",
    "    else:\n",
    "        print(f\"{key.upper()} --  {response1.get(key)}\")\n"
   ]
  },
  {
   "cell_type": "code",
   "execution_count": 53,
   "metadata": {},
   "outputs": [],
   "source": [
    "def vehicle_insurance(key):\n",
    "    for key in response1.get(key).keys():\n",
    "        print(f\"{key.upper()} --  {response1.get(key)}\")"
   ]
  },
  {
   "cell_type": "code",
   "execution_count": 40,
   "metadata": {},
   "outputs": [
    {
     "name": "stdout",
     "output_type": "stream",
     "text": [
      "PUCC_FROM --  None\n",
      "PUCC_UPTO --  None\n",
      "PUCC_CENTRENO --  None\n",
      "PUCC_NO --  None\n",
      "OP_DT --  2016-04-27 15:25:17.013859\n"
     ]
    }
   ],
   "source": [
    "for key in response1.get(\"vehicle_pucc_details\").keys():\n",
    "        print(f\"{key.upper()} --  {response1.get(key)}\")"
   ]
  },
  {
   "cell_type": "code",
   "execution_count": 96,
   "metadata": {},
   "outputs": [],
   "source": [
    "class vehicle_info():\n",
    "    \n",
    "    def basic_details(self):\n",
    "        for key in response1.keys():\n",
    "            if key == \"vehicle_insurance_details\":\n",
    "                break\n",
    "            else:\n",
    "                print(f\"{key.upper()} --  {response1.get(key)}\")\n",
    "                \n",
    "    \n",
    "    def insurance_details(self):\n",
    "        for key in response1.get(\"vehicle_insurance_details\").keys():\n",
    "            print(f\"{key.upper()} --  {response1.get('vehicle_insurance_details').get(key)}\")\n",
    "    \n",
    "    def pucc_details(self):\n",
    "        for key in response1.get(\"vehicle_pucc_details\").keys():\n",
    "            print(f\"{key.upper()} --  {response1.get('vehicle_pucc_details').get(key)}\")"
   ]
  },
  {
   "cell_type": "code",
   "execution_count": 97,
   "metadata": {},
   "outputs": [],
   "source": [
    "maestro = vehicle_info()"
   ]
  },
  {
   "cell_type": "code",
   "execution_count": 98,
   "metadata": {},
   "outputs": [
    {
     "name": "stdout",
     "output_type": "stream",
     "text": [
      "STATE_CODE --  DL\n",
      "STATE --  Delhi\n",
      "OFFICE_CODE --  7\n",
      "OFFICE_NAME --  MAYUR VIHAR \n",
      "REG_NO --  DL7SBQ8935\n",
      "REG_DATE --  2013-08-14\n",
      "PURCHASE_DATE --  2013-08-14\n",
      "OWNER_COUNT --  2\n",
      "OWNER_NAME --  SHIVAM UPPAL\n",
      "OWNER_FATHER_NAME --  DEEPAK UPPAL\n",
      "CURRENT_ADDRESS_LINE1 --  H.NO-142 F F, E BLOCK,\n",
      "CURRENT_ADDRESS_LINE2 --  JHILMIL  COLONY\n",
      "CURRENT_ADDRESS_LINE3 --  SHAHDARA\n",
      "CURRENT_DISTRICT_NAME --  East\n",
      "CURRENT_STATE --  DL\n",
      "CURRENT_STATE_NAME --  Delhi\n",
      "CURRENT_PINCODE --  110095\n",
      "PERMANENT_ADDRESS_LINE1 --  H.NO-142 F F, E BLOCK,\n",
      "PERMANENT_ADDRESS_LINE2 --  JHILMIL  COLONY\n",
      "PERMANENT_ADDRESS_LINE3 --  SHAHDARA\n",
      "PERMANENT_DISTRICT_NAME --  East\n",
      "PERMANENT_STATE --  DL\n",
      "PERMANENT_STATE_NAME --  Delhi\n",
      "PERMANENT_PINCODE --  110095\n",
      "OWNER_CODE_DESCR --  INDIVIDUAL\n",
      "REG_TYPE_DESCR --  NEW\n",
      "VEHICLE_CLASS_DESC --  M-Cycle/Scooter\n",
      "CHASSIS_NO --  MBLJF32ABDGG26639\n",
      "ENGINE_NO --  JF32AADGG26587\n",
      "VEHICLE_MANUFACTURER_NAME --  HERO HONDA MOTORS  LTD\n",
      "MODEL_CODE --  MAESTRO\n",
      "MODEL --  MAESTRO\n",
      "BODY_TYPE --  SOLO\n",
      "CYLINDERS_NO --  1\n",
      "VEHICLE_HP --  0\n",
      "VEHICLE_SEAT_CAPACITY --  2\n",
      "VEHICLE_STANDING_CAPACITY --  None\n",
      "VEHICLE_SLEEPER_CAPACITY --  None\n",
      "UNLADEN_WEIGHT --  140\n",
      "VEHICLE_GROSS_WEIGHT --  240\n",
      "VEHICLE_GROSS_COMB_WEIGHT --  0\n",
      "FUEL_DESCR --  PETROL\n",
      "COLOR --  RED\n",
      "MANUFACTURING_MON --  7\n",
      "MANUFACTURING_YR --  2013\n",
      "NORMS_DESCR --  BHARAT STAGE III\n",
      "WHEELBASE --  0\n",
      "CUBIC_CAP --  110\n",
      "FLOOR_AREA --  None\n",
      "AC_FITTED --  N\n",
      "AUDIO_FITTED --  N\n",
      "VIDEO_FITTED --  N\n",
      "VEHICLE_PURCHASE_AS --  None\n",
      "VEHICLE_CATG --  2WN\n",
      "DEALER_CODE --  DL00700869\n",
      "DEALER_NAME --  AUTO NEEDS\n",
      "DEALER_ADDRESS_LINE1 --  E-1/4 PANDAV NAGAR PATPARGANJ\n",
      "DEALER_ADDRESS_LINE2 --  OPP MOTHER DAIRY\n",
      "DEALER_ADDRESS_LINE3 --  \n",
      "DEALER_DISTRICT --  93\n",
      "DEALER_PINCODE --  110092\n",
      "SALE_AMOUNT --  46900\n",
      "LASER_CODE --  None\n",
      "GARAGE_ADD --  \n",
      "LENGTH --  None\n",
      "WIDTH --  None\n",
      "HEIGHT --  None\n",
      "REG_UPTO --  2028-08-13\n",
      "FIT_UPTO --  2028-08-13\n",
      "ANNUAL_INCOME --  None\n",
      "OP_DT --  2016-04-27 15:25:17.013859\n",
      "IMPORTED_VEHICLE --  N\n",
      "OTHER_CRITERIA --  None\n",
      "STATUS --  A\n",
      "VEHICLE_TYPE --  Non-Transport\n",
      "TAX_MODE --  None\n",
      "MOBILE_NO --  7042283621\n",
      "EMAIL_ID --  \n",
      "PAN_NO --  \n",
      "AADHAR_NO --  \n",
      "PASSPORT_NO --  \n",
      "RATION_CARD_NO --  \n",
      "VOTER_ID --  \n",
      "DL_NO --  \n",
      "VERIFIED_ON --  2016-04-27\n",
      "DL_VALIDATION_REQUIRED --  False\n",
      "CONDITION_STATUS --  False\n"
     ]
    }
   ],
   "source": [
    "maestro.basic_details()"
   ]
  },
  {
   "cell_type": "code",
   "execution_count": 94,
   "metadata": {},
   "outputs": [
    {
     "name": "stdout",
     "output_type": "stream",
     "text": [
      "INSURANCE_FROM --  2022-02-02\n",
      "INSURANCE_UPTO --  2023-02-01\n",
      "INSURANCE_COMPANY_CODE --  1027\n",
      "INSURANCE_COMPANY_NAME --  Bajaj Allianz General Insurance Co. Ltd.\n",
      "OPDT --  2022-01-31 07:10:32.33425\n",
      "POLICY_NO --  OG-22-9906-1802-00403956\n",
      "VAHAN_VERIFY --  true\n",
      "REG_NO --  DL7SBQ8935\n"
     ]
    }
   ],
   "source": [
    "maestro.insurance_details()"
   ]
  },
  {
   "cell_type": "code",
   "execution_count": 99,
   "metadata": {},
   "outputs": [
    {
     "name": "stdout",
     "output_type": "stream",
     "text": [
      "PUCC_FROM --  22-01-2023\n",
      "PUCC_UPTO --  21-04-2023\n",
      "PUCC_CENTRENO --  DL0130005\n",
      "PUCC_NO --  DL01300050020636\n",
      "OP_DT --  22-01-2023\n"
     ]
    }
   ],
   "source": [
    "maestro.pucc_details()"
   ]
  },
  {
   "cell_type": "code",
   "execution_count": null,
   "metadata": {},
   "outputs": [],
   "source": []
  }
 ],
 "metadata": {
  "kernelspec": {
   "display_name": "Python 3 (ipykernel)",
   "language": "python",
   "name": "python3"
  },
  "language_info": {
   "codemirror_mode": {
    "name": "ipython",
    "version": 3
   },
   "file_extension": ".py",
   "mimetype": "text/x-python",
   "name": "python",
   "nbconvert_exporter": "python",
   "pygments_lexer": "ipython3",
   "version": "3.10.9"
  }
 },
 "nbformat": 4,
 "nbformat_minor": 2
}
